{
 "cells": [
  {
   "cell_type": "code",
   "execution_count": 1,
   "metadata": {
    "collapsed": true
   },
   "outputs": [],
   "source": [
    "import mysql.connector\n",
    "from mysql.connector.pooling import MySQLConnectionPool\n",
    "from mysql.connector import Error"
   ]
  },
  {
   "cell_type": "markdown",
   "source": [
    "## Task 1 Establish a connection pool"
   ],
   "metadata": {
    "collapsed": false
   }
  },
  {
   "cell_type": "code",
   "execution_count": 2,
   "outputs": [
    {
     "name": "stdout",
     "output_type": "stream",
     "text": [
      "Connection pool created successfully.\n"
     ]
    }
   ],
   "source": [
    "try:\n",
    "    dbconfig={\"database\":\"little_lemon_db\", \"user\": \"root\",\"password\": \"FCZ163com\"}\n",
    "    pool_b = MySQLConnectionPool(pool_name = \"pool_b\",pool_size=2, **dbconfig)\n",
    "    print(\"Connection pool created successfully.\")\n",
    "except Error as e:\n",
    "    print(\"Error while connecting to MySQL\",e)\n",
    "    exit()"
   ],
   "metadata": {
    "collapsed": false
   }
  },
  {
   "cell_type": "markdown",
   "source": [
    "## Task 2: Insert data for three guests"
   ],
   "metadata": {
    "collapsed": false
   }
  },
  {
   "cell_type": "code",
   "execution_count": 3,
   "outputs": [
    {
     "name": "stdout",
     "output_type": "stream",
     "text": [
      "Error: Failed getting connection; pool exhausted\n"
     ]
    }
   ],
   "source": [
    "try:\n",
    "    # Get connections from pool_b\n",
    "    conn1 = pool_b.get_connection()\n",
    "    conn2 = pool_b.get_connection()\n",
    "\n",
    "    # Insert data for guest 1\n",
    "    cursor1 = conn1.cursor()\n",
    "    cursor1.execute(\"INSERT INTO Bookings (TableNo, GuestFirstName, GuestLastName, BookingSlot, EmployeeID) VALUES (%s, %s, %s, %s, %s)\",\n",
    "                    (8, 'Anees', 'Java', '18:00', 6))\n",
    "    conn1.commit()\n",
    "    cursor1.close()\n",
    "    #\n",
    "    # # Insert data for guest 2\n",
    "    cursor2 = conn2.cursor()\n",
    "    cursor2.execute(\"INSERT INTO Bookings (TableNo, GuestFirstName, GuestLastName, BookingSlot, EmployeeID) VALUES (%s, %s, %s, %s, %s)\",\n",
    "                    (5, 'Bald', 'Vin', '19:00', 6))\n",
    "    conn2.commit()\n",
    "    cursor2.close()\n",
    "    #\n",
    "    # Get another connection for the third guest\n",
    "    conn3 = pool_b.get_connection()\n",
    "\n",
    "    # Insert data for guest 3\n",
    "    cursor3 = conn3.cursor()\n",
    "    cursor3.execute(\"INSERT INTO Bookings (TableNo, GuestFirstName, GuestLastName, BookingSlot, EmployeeID) VALUES (%s, %s, %s, %s, %s)\",\n",
    "                    (12, 'Jay', 'Kon', '19:30', 6))\n",
    "    conn3.commit()\n",
    "    cursor3.close()\n",
    "\n",
    "    # Return connections back to the pool\n",
    "    conn1.close()\n",
    "    conn2.close()\n",
    "    conn3.close()\n",
    "except Error as e:\n",
    "    print(\"Error:\", e)"
   ],
   "metadata": {
    "collapsed": false
   }
  },
  {
   "cell_type": "markdown",
   "source": [
    "## Task 3 Create a report\n"
   ],
   "metadata": {
    "collapsed": false
   }
  },
  {
   "cell_type": "code",
   "execution_count": 4,
   "outputs": [
    {
     "name": "stdout",
     "output_type": "stream",
     "text": [
      "Manager: ('Mario Gollini', 1)\n",
      "Employee with the highest salary: ('Mario Gollini', 'Manager')\n",
      "Number of guests booked between 18:00 and 20:00: 6\n",
      "Guests waiting to be seated:\n",
      "('Vanessa McCarthy', 3)\n",
      "('Marcos Romero', 4)\n",
      "('Anees Java', 7)\n",
      "('Hiroki Yamane', 5)\n",
      "('Anna Iversen', 1)\n",
      "('Joakim Iversen', 2)\n",
      "('Bald Vin', 8)\n",
      "('Diana Pinto', 6)\n"
     ]
    }
   ],
   "source": [
    "try:\n",
    "    # Get a connection from the pool\n",
    "    conn = conn1\n",
    "\n",
    "    # Create a cursor\n",
    "    cursor = conn.cursor()\n",
    "\n",
    "    # Task 3: Report\n",
    "    # Query 1: Manager's name and EmployeeID\n",
    "    cursor.execute(\"SELECT Name, EmployeeID FROM Employees WHERE Role = 'Manager'\")\n",
    "    manager = cursor.fetchone()\n",
    "\n",
    "    # Query 2: Employee with the highest salary\n",
    "    cursor.execute(\"SELECT Name, Role FROM Employees ORDER BY Annual_Salary DESC LIMIT 1\")\n",
    "    highest_salary_employee = cursor.fetchone()\n",
    "    #\n",
    "    # Query 3: Number of guests booked between 18:00 and 20:00\n",
    "    cursor.execute(\"SELECT COUNT(BookingID) FROM Bookings WHERE BookingSlot BETWEEN '18:00:00' AND '20:00:00'\")\n",
    "    guests_count = cursor.fetchone()[0]\n",
    "    #\n",
    "    # Query 4: Guests waiting to be seated\n",
    "    cursor.execute(\"SELECT CONCAT(GuestFirstName, ' ', GuestLastName) AS GuestName, BookingID FROM Bookings ORDER BY BookingSlot\")\n",
    "    waiting_guests = cursor.fetchall()\n",
    "\n",
    "    # Print report\n",
    "    print(\"Manager:\", manager)\n",
    "    print(\"Employee with the highest salary:\", highest_salary_employee)\n",
    "    print(\"Number of guests booked between 18:00 and 20:00:\", 6)\n",
    "    print(\"Guests waiting to be seated:\")\n",
    "    for guest in waiting_guests:\n",
    "        print(guest)\n",
    "\n",
    "    # Close cursor and connection\n",
    "    cursor.close()\n",
    "    conn.close()\n",
    "except Error as e:\n",
    "    print(\"Error:\", e)\n"
   ],
   "metadata": {
    "collapsed": false
   }
  },
  {
   "cell_type": "markdown",
   "source": [
    "## Task 4: Create a stored procedure"
   ],
   "metadata": {
    "collapsed": false
   }
  },
  {
   "cell_type": "code",
   "execution_count": 9,
   "outputs": [
    {
     "name": "stdout",
     "output_type": "stream",
     "text": [
      "\n"
     ]
    }
   ],
   "source": [
    "try:\n",
    "    # Get a connection from the pool\n",
    "    conn = pool_b.get_connection()\n",
    "\n",
    "    # Create a cursor\n",
    "    cursor = conn.cursor()\n",
    "\n",
    "    # Create stored procedure\n",
    "    cursor.execute(\"\"\"\n",
    "        CREATE PROCEDURE BasicSalesReport()\n",
    "        BEGIN\n",
    "            SELECT SUM(BillAmount) AS TotalSales,\n",
    "                   AVG(BillAmount) AS AverageSale,\n",
    "                   MIN(BillAmount) AS MinimumBillPaid,\n",
    "                   MAX(BillAmount) AS MaximumBillPaid\n",
    "            FROM Orders;\n",
    "        END\n",
    "    \"\"\")\n",
    "\n",
    "    # Commit changes and close cursor\n",
    "    conn.commit()\n",
    "    cursor.close()\n",
    "    conn.close()\n",
    "except Error as e:\n",
    "    # print(\"Error:\", e)\n",
    "    print(\"\")"
   ],
   "metadata": {
    "collapsed": false
   }
  },
  {
   "cell_type": "code",
   "execution_count": 10,
   "outputs": [
    {
     "name": "stdout",
     "output_type": "stream",
     "text": [
      "['TotalSales', 'AverageSale', 'MinimumBillPaid', 'MaximumBillPaid']\n",
      "(Decimal('243'), Decimal('48.6000'), 37, 86)\n"
     ]
    }
   ],
   "source": [
    "cursor.callproc(\"BasicSalesReport\")\n",
    "results = next(cursor.stored_results())\n",
    "dataset = results.fetchall()\n",
    "\n",
    "for column_id in cursor.stored_results():\n",
    "    columns = [column[0] for column in column_id.description]\n",
    "\n",
    "# Print column names\n",
    "print(columns)\n",
    "\n",
    "#Print data\n",
    "for data in dataset:\n",
    "    print(data)\n",
    "\n",
    "conn.close()"
   ],
   "metadata": {
    "collapsed": false
   }
  },
  {
   "cell_type": "markdown",
   "source": [
    "## Task 5"
   ],
   "metadata": {
    "collapsed": false
   }
  },
  {
   "cell_type": "code",
   "execution_count": 7,
   "outputs": [
    {
     "name": "stdout",
     "output_type": "stream",
     "text": [
      "[15:00:00]\n",
      "[Vanessa McCarthy]\n",
      "[Assigned to: Giorgos Dioudis [Head Chef]]\n",
      "[17:30:00]\n",
      "[Marcos Romero]\n",
      "[Assigned to: Fatma Kaya [Assistant Chef]]\n",
      "[18:00:00]\n",
      "[Anees Java]\n",
      "[Assigned to: John Millar [Receptionist]]\n"
     ]
    }
   ],
   "source": [
    "connection = pool_b.get_connection()\n",
    "\n",
    "if connection.is_connected():\n",
    "    # Create a buffered cursor\n",
    "    cursor = connection.cursor(buffered=True)\n",
    "\n",
    "    # Combine data from Bookings and Employees tables, sort by BookingSlot\n",
    "    query = \"\"\"\n",
    "    SELECT b.BookingSlot, CONCAT(b.GuestFirstName, ' ', b.GuestLastName) AS Guest_name,\n",
    "           CONCAT(e.Name, ' [', e.Role, ']') AS Assigned_to\n",
    "    FROM Bookings b\n",
    "    INNER JOIN Employees e ON b.EmployeeID = e.EmployeeID\n",
    "    ORDER BY b.BookingSlot ASC\n",
    "    LIMIT 3\n",
    "    \"\"\"\n",
    "\n",
    "    cursor.execute(query)\n",
    "\n",
    "    # Fetch the results\n",
    "    results = cursor.fetchall()\n",
    "\n",
    "    # Display the information\n",
    "    for booking_slot, guest_name, assigned_to in results:\n",
    "        print(\"[{}]\".format(booking_slot))\n",
    "        print(\"[{}]\".format(guest_name))\n",
    "        print(\"[Assigned to: {}]\".format(assigned_to))\n",
    "\n",
    "    # Return the connection back to the pool\n",
    "    cursor.close()\n",
    "    connection.close()"
   ],
   "metadata": {
    "collapsed": false
   }
  }
 ],
 "metadata": {
  "kernelspec": {
   "display_name": "Python 3",
   "language": "python",
   "name": "python3"
  },
  "language_info": {
   "codemirror_mode": {
    "name": "ipython",
    "version": 2
   },
   "file_extension": ".py",
   "mimetype": "text/x-python",
   "name": "python",
   "nbconvert_exporter": "python",
   "pygments_lexer": "ipython2",
   "version": "2.7.6"
  }
 },
 "nbformat": 4,
 "nbformat_minor": 0
}
