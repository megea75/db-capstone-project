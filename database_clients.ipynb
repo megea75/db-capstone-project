{
 "cells": [
  {
   "cell_type": "markdown",
   "id": "dedadeba4a017f92",
   "metadata": {
    "collapsed": false,
    "jupyter": {
     "outputs_hidden": false
    }
   },
   "source": [
    "# Database Clients Lab"
   ]
  },
  {
   "cell_type": "markdown",
   "id": "afa9debf-810a-4e05-88e6-67dcf8ece219",
   "metadata": {
    "collapsed": false,
    "jupyter": {
     "outputs_hidden": false
    }
   },
   "source": [
    "# Set up the database"
   ]
  },
  {
   "cell_type": "markdown",
   "id": "ddde72ab1f740a54",
   "metadata": {
    "collapsed": false,
    "jupyter": {
     "outputs_hidden": false
    }
   },
   "source": [
    "## Step 1: Establish a connection\n",
    "Open a new Jupyter notebook and import the MySQL Connector/Python API to establish a connection between Python and MySQL database. The code to establish a connection is given below. Use your own username and password when you are establishing a connection."
   ]
  },
  {
   "cell_type": "code",
   "execution_count": 49,
   "id": "d31375f9ab0e994d",
   "metadata": {
    "collapsed": false,
    "jupyter": {
     "outputs_hidden": false
    }
   },
   "outputs": [],
   "source": [
    "# Import MySQL Connector/Python \n",
    "\n",
    "import mysql.connector as connector\n",
    "\n",
    "connection=connector.connect(user=\"root\",password=\"root\")"
   ]
  },
  {
   "cell_type": "markdown",
   "id": "9e9f83bd-c1f7-43b3-9c12-2d8afdc676ac",
   "metadata": {
    "collapsed": false,
    "jupyter": {
     "outputs_hidden": false
    }
   },
   "source": [
    "## Step 2: Create a cursor\n",
    "Once the connection between Python and MySQL database is successfully established, you need a cursor object to communicate with MySQL. Create a cursor using the code given below:"
   ]
  },
  {
   "cell_type": "code",
   "execution_count": 50,
   "id": "903e4d08-01b3-4271-a87e-9f112ed07af0",
   "metadata": {},
   "outputs": [],
   "source": [
    "cursor = connection.cursor()"
   ]
  },
  {
   "cell_type": "markdown",
   "id": "abc0a25d-287e-4343-8f9b-028f444817fa",
   "metadata": {},
   "source": [
    "## Step 3: Create the database and set it for use\n",
    "Now that you have a connection and a cursor, create a new database little_lemon_db using the code below:"
   ]
  },
  {
   "cell_type": "code",
   "execution_count": 52,
   "id": "7a90a86a-7a3b-4909-ba6e-602a6a30a0dd",
   "metadata": {},
   "outputs": [],
   "source": [
    "cursor.execute(\"CREATE DATABASE IF NOT EXISTS little_lemon_db\") \n",
    "\n",
    "# Set the database for use by executing the following SQL statement:\n",
    "cursor.execute(\"USE little_lemon_db\")"
   ]
  },
  {
   "cell_type": "markdown",
   "id": "c2487d62-340d-4c84-bb5f-f1dbbe0d255b",
   "metadata": {},
   "source": [
    "## Step 4: Create tables\n",
    "You now need tables so that you can insert the data. Use the following queries to create your table structure:"
   ]
  },
  {
   "cell_type": "markdown",
   "id": "90c28d43-e20c-4896-bb6a-6da83e41eae8",
   "metadata": {},
   "source": [
    "### MenuItems table"
   ]
  },
  {
   "cell_type": "code",
   "execution_count": 8,
   "id": "b2cbab75-c1a5-46a9-86dc-3234a09abd1c",
   "metadata": {},
   "outputs": [],
   "source": [
    "#MenuItems table\n",
    "create_menuitem_table = \"\"\"CREATE TABLE IF NOT EXISTS MenuItems (\n",
    "ItemID INT AUTO_INCREMENT,\n",
    "Name VARCHAR(200),\n",
    "Type VARCHAR(100),\n",
    "Price INT,\n",
    "PRIMARY KEY (ItemID)\n",
    ");\"\"\""
   ]
  },
  {
   "cell_type": "markdown",
   "id": "8e58e267-8034-4ee2-baff-4e890d79532a",
   "metadata": {},
   "source": [
    "### Menu table"
   ]
  },
  {
   "cell_type": "code",
   "execution_count": 9,
   "id": "69c280c9-25be-4d3e-b77e-e24a0f73a92f",
   "metadata": {},
   "outputs": [],
   "source": [
    "create_menu_table = \"\"\"CREATE TABLE IF NOT EXISTS Menus (\n",
    "MenuID INT,\n",
    "ItemID INT,\n",
    "Cuisine VARCHAR(100),\n",
    "PRIMARY KEY (MenuID,ItemID)\n",
    ");\"\"\""
   ]
  },
  {
   "cell_type": "markdown",
   "id": "f803f810-02e8-4369-8688-4433b10e2dc1",
   "metadata": {},
   "source": [
    "### Bookings table"
   ]
  },
  {
   "cell_type": "code",
   "execution_count": 14,
   "id": "df86d1c6-9d2e-45a9-bdca-ad562bfd9b9b",
   "metadata": {},
   "outputs": [],
   "source": [
    "create_booking_table = \"\"\"CREATE TABLE IF NOT EXISTS Bookings (\n",
    "BookingID INT AUTO_INCREMENT,\n",
    "TableNo INT,\n",
    "GuestFirstName VARCHAR(100) NOT NULL,\n",
    "GuestLastName VARCHAR(100) NOT NULL,\n",
    "BookingSlot TIME NOT NULL,\n",
    "EmployeeID INT,\n",
    "PRIMARY KEY (BookingID)\n",
    ");\"\"\""
   ]
  },
  {
   "cell_type": "markdown",
   "id": "d65a2d2a-e247-44a0-b504-b90115337a23",
   "metadata": {},
   "source": [
    "### Orders table"
   ]
  },
  {
   "cell_type": "code",
   "execution_count": 11,
   "id": "7c29a114-6838-47ca-ba9c-3d23419ca71f",
   "metadata": {},
   "outputs": [],
   "source": [
    "create_orders_table = \"\"\"CREATE TABLE IF NOT EXISTS Orders (\n",
    "OrderID INT,\n",
    "TableNo INT,\n",
    "MenuID INT,\n",
    "BookingID INT,\n",
    "BillAmount INT,\n",
    "Quantity INT,\n",
    "PRIMARY KEY (OrderID,TableNo)\n",
    ");\"\"\""
   ]
  },
  {
   "cell_type": "markdown",
   "id": "cbe48d9b-2666-471c-b821-15a603d38be0",
   "metadata": {},
   "source": [
    "### Employees table"
   ]
  },
  {
   "cell_type": "code",
   "execution_count": 12,
   "id": "9cf0917b-65ac-4f1d-9b4c-8751638ff553",
   "metadata": {},
   "outputs": [],
   "source": [
    "create_employees_table = \"\"\"CREATE TABLE IF NOT EXISTS Employees (\n",
    "EmployeeID INT AUTO_INCREMENT PRIMARY KEY,\n",
    "Name VARCHAR (255),\n",
    "Role VARCHAR (100),\n",
    "Address VARCHAR (255),\n",
    "Contact_Number INT,\n",
    "Email VARCHAR (255),\n",
    "Annual_Salary VARCHAR (100)\n",
    ");\"\"\""
   ]
  },
  {
   "cell_type": "markdown",
   "id": "fd44b97c-23f4-4f06-9eb3-5ef57f2d13ee",
   "metadata": {},
   "source": [
    "Now that you have defined the structures for all the required tables, use the code below and create the tables in your database little_lemon_db."
   ]
  },
  {
   "cell_type": "code",
   "execution_count": 15,
   "id": "1710a03d-560c-4f05-9dad-1d9d52765788",
   "metadata": {},
   "outputs": [],
   "source": [
    "# Create MenuItems table\n",
    "cursor.execute(create_menuitem_table)\n",
    "\n",
    "# Create Menu table\n",
    "cursor.execute(create_menu_table)\n",
    "\n",
    "# Create Bookings table\n",
    "cursor.execute(create_booking_table)\n",
    "\n",
    "# Create Orders table\n",
    "cursor.execute(create_orders_table)\n",
    "\n",
    "# Create Employees table\n",
    "cursor.execute(create_employees_table)"
   ]
  },
  {
   "cell_type": "markdown",
   "id": "5b038c3a-6061-4879-bfc7-2b560e26ea1a",
   "metadata": {},
   "source": [
    "## Step 5: Insert data\n",
    "The tables are ready for you to insert the data. Use the following INSERT queries to populate your tables in the little_lemon_db database. "
   ]
  },
  {
   "cell_type": "code",
   "execution_count": 31,
   "id": "0a77b6e9-4703-4593-a6ec-9d23bc996b3c",
   "metadata": {},
   "outputs": [],
   "source": [
    "#*******************************************************#\n",
    "# Insert query to populate \"MenuItems\" table:\n",
    "#*******************************************************#\n",
    "insert_menuitems=\"\"\"\n",
    "INSERT IGNORE INTO MenuItems (ItemID, Name, Type, Price)\n",
    "VALUES\n",
    "(1, 'Olives','Starters',5),\n",
    "(2, 'Flatbread','Starters', 5),\n",
    "(3, 'Minestrone', 'Starters', 8),\n",
    "(4, 'Tomato bread','Starters', 8),\n",
    "(5, 'Falafel', 'Starters', 7),\n",
    "(6, 'Hummus', 'Starters', 5),\n",
    "(7, 'Greek salad', 'Main Courses', 15),\n",
    "(8, 'Bean soup', 'Main Courses', 12),\n",
    "(9, 'Pizza', 'Main Courses', 15),\n",
    "(10, 'Greek yoghurt','Desserts', 7),\n",
    "(11, 'Ice cream', 'Desserts', 6),\n",
    "(12, 'Cheesecake', 'Desserts', 4),\n",
    "(13, 'Athens White wine', 'Drinks', 25),\n",
    "(14, 'Corfu Red Wine', 'Drinks', 30),\n",
    "(15, 'Turkish Coffee', 'Drinks', 10),\n",
    "(16, 'Turkish Coffee', 'Drinks', 10),\n",
    "(17, 'Kabasa', 'Main Courses', 17);\"\"\"\n",
    "\n",
    "#*******************************************************#\n",
    "# Insert query to populate \"Menu\" table:\n",
    "#*******************************************************#\n",
    "insert_menu=\"\"\"\n",
    "INSERT IGNORE INTO Menus (MenuID,ItemID,Cuisine)\n",
    "VALUES\n",
    "(1, 1, 'Greek'),\n",
    "(1, 7, 'Greek'),\n",
    "(1, 10, 'Greek'),\n",
    "(1, 13, 'Greek'),\n",
    "(2, 3, 'Italian'),\n",
    "(2, 9, 'Italian'),\n",
    "(2, 12, 'Italian'),\n",
    "(2, 15, 'Italian'),\n",
    "(3, 5, 'Turkish'),\n",
    "(3, 17, 'Turkish'),\n",
    "(3, 11, 'Turkish'),\n",
    "(3, 16, 'Turkish');\"\"\"\n",
    "\n",
    "#*******************************************************#\n",
    "# Insert query to populate \"Bookings\" table:\n",
    "#*******************************************************#\n",
    "insert_bookings=\"\"\"\n",
    "INSERT IGNORE INTO Bookings (BookingID, TableNo, GuestFirstName, \n",
    "GuestLastName, BookingSlot, EmployeeID)\n",
    "VALUES\n",
    "(1, 12, 'Anna','Iversen','19:00:00',1),\n",
    "(2, 12, 'Joakim', 'Iversen', '19:00:00', 1),\n",
    "(3, 19, 'Vanessa', 'McCarthy', '15:00:00', 3),\n",
    "(4, 15, 'Marcos', 'Romero', '17:30:00', 4),\n",
    "(5, 5, 'Hiroki', 'Yamane', '18:30:00', 2),\n",
    "(6, 8, 'Diana', 'Pinto', '20:00:00', 5);\"\"\"\n",
    "\n",
    "#*******************************************************#\n",
    "# Insert query to populate \"Orders\" table:\n",
    "#*******************************************************#\n",
    "insert_orders=\"\"\"\n",
    "INSERT IGNORE INTO Orders (OrderID, TableNo, MenuID, BookingID, Quantity, BillAmount)\n",
    "VALUES\n",
    "(1, 12, 1, 1, 2, 86),\n",
    "(2, 19, 2, 2, 1, 37),\n",
    "(3, 15, 2, 3, 1, 37),\n",
    "(4, 5, 3, 4, 1, 40),\n",
    "(5, 8, 1, 5, 1, 43);\"\"\"\n",
    "\n",
    "#*******************************************************#\n",
    "# Insert query to populate \"Employees\" table:\n",
    "#*******************************************************#\n",
    "insert_employees = \"\"\"\n",
    "INSERT IGNORE INTO employees(EmployeeID, Name, Role, Address, Contact_Number, Email, Annual_Salary)\n",
    "VALUES\n",
    "(01,'Mario Gollini','Manager','724, Parsley Lane, Old Town, Chicago, IL', 351258074, 'Mario.g@littlelemon.com','$70,000'),\n",
    "(02,'Adrian Gollini','Assistant Manager','334, Dill Square, Lincoln Park, Chicago, IL',351474048,'Adrian.g@littlelemon.com','$65,000'),\n",
    "(03,'Giorgos Dioudis','Head Chef','879 Sage Street, West Loop, Chicago, IL',351970582,'Giorgos.d@littlelemon.com','$50,000'),\n",
    "(04,'Fatma Kaya','Assistant Chef','132  Bay Lane, Chicago, IL',351963569,'Fatma.k@littlelemon.com','$45,000'),\n",
    "(05,'Elena Salvai','Head Waiter','989 Thyme Square, EdgeWater, Chicago, IL',351074198,'Elena.s@littlelemon.com','$40,000'),\n",
    "(06,'John Millar','Receptionist','245 Dill Square, Lincoln Park, Chicago, IL',351584508,'John.m@littlelemon.com','$35,000');\"\"\"\n"
   ]
  },
  {
   "cell_type": "markdown",
   "id": "3ec58b65-84ca-4122-bf5c-29e9df812f56",
   "metadata": {},
   "source": [
    "Populate the tables using execute module on the cursor. "
   ]
  },
  {
   "cell_type": "code",
   "execution_count": 53,
   "id": "c79fa429-05f5-441d-860f-f86dfa9dd02a",
   "metadata": {},
   "outputs": [],
   "source": [
    "# Populate MenuItems table\n",
    "cursor.execute(insert_menuitems)\n",
    "connection.commit()\n",
    "\n",
    "# Populate MenuItems table\n",
    "cursor.execute(insert_menu)\n",
    "connection.commit()\n",
    "\n",
    "# Populate Bookings table\n",
    "cursor.execute(insert_bookings)\n",
    "connection.commit()\n",
    "\n",
    "# Populate Orders table\n",
    "cursor.execute(insert_orders)\n",
    "connection.commit()\n",
    "\n",
    "# Populate Employees table\n",
    "cursor.execute(insert_employees)\n",
    "connection.commit()\n"
   ]
  },
  {
   "cell_type": "code",
   "execution_count": 66,
   "id": "e7b73002-0091-4fdf-80df-b7699604e87b",
   "metadata": {},
   "outputs": [
    {
     "name": "stdout",
     "output_type": "stream",
     "text": [
      "All test cases passed!\n"
     ]
    }
   ],
   "source": [
    "def test_count_rows():\n",
    "    cursor.execute(\"USE little_lemon_db;\")\n",
    "    all_tests_passed = True\n",
    "    \n",
    "    # Test case 1: Count of MenuItems Rows\n",
    "    count_menu_items = cursor.execute(\"SELECT COUNT(*) FROM MenuItems;\")\n",
    "    result_menu_items = cursor.fetchall()\n",
    "    assert result_menu_items[0][0] == 17\n",
    "\n",
    "    # Test case 2: Count of Menus Rows\n",
    "    count_menu_items = cursor.execute(\"SELECT COUNT(*) FROM Menus;\")\n",
    "    result_menu_items = cursor.fetchall()\n",
    "    assert result_menu_items[0][0] == 12\n",
    "\n",
    "    # Test case 3: Count of Bookings Rows\n",
    "    count_menu_items = cursor.execute(\"SELECT COUNT(*) FROM Bookings;\")\n",
    "    result_menu_items = cursor.fetchall()\n",
    "    assert result_menu_items[0][0] == 6\n",
    "\n",
    "    # Test case 4: Count of Orders Rows\n",
    "    count_menu_items = cursor.execute(\"SELECT COUNT(*) FROM Orders;\")\n",
    "    result_menu_items = cursor.fetchall()\n",
    "    assert result_menu_items[0][0] == 5\n",
    "\n",
    "    # Test case 5: Count of Employees Rows\n",
    "    count_menu_items = cursor.execute(\"SELECT COUNT(*) FROM Employees;\")\n",
    "    result_menu_items = cursor.fetchall()\n",
    "    assert result_menu_items[0][0] == 6\n",
    "\n",
    "    if all_tests_passed:\n",
    "        print(\"All test cases passed!\")\n",
    "\n",
    "if __name__ == \"__main__\":\n",
    "  test_count_rows()"
   ]
  },
  {
   "cell_type": "markdown",
   "id": "6152e39f-0afe-4c8b-b7be-39dfa23df6ba",
   "metadata": {},
   "source": [
    "# Implement and query stored procedures\n",
    "In this exercise you must create a pool of connections and get a connection from the pool to implement the stored procedures to complete the following tasks:\n",
    "\n",
    "Establish a connection by importing **MySQLConnectionPool** and creating a pool with two connections.\n",
    "\n",
    "Create and call a stored procedure named **PeakHours** that identifies the peak, or busiest hour, for the restaurant based on the number of bookings.\n",
    "\n",
    "Create and call a stored procedure named **GuestStatus** that outputs status of each guest’s order based on which employee is assigned to the order.\n",
    "\n",
    "Stored procedures are created to carry out routine operations on MySQL databases. They are consistent and make sure that the written SQL queries in the procedures are executed in the same way every time you call the stored procedure.\n",
    "\n",
    "A stored procedure is created only once, and you store it in the MySQL database. You can call the stored procedures as many times as you need in your Python-based application.\n",
    "\n",
    "The tasks and the steps that you must follow to complete each one are as follows:"
   ]
  },
  {
   "cell_type": "markdown",
   "id": "73caae61-23d8-4c3f-b8d3-4f642984d286",
   "metadata": {},
   "source": [
    "## Task 1: Establish a connection \n",
    "**Step one**: Import MySQLConnectionPool\n",
    "\n",
    "**Step two**: Import Error\n",
    "\n",
    "**Step three**: Create a pool named pool_a with two connections. Use a try-except block to handle any possible errors. "
   ]
  },
  {
   "cell_type": "code",
   "execution_count": 71,
   "id": "906e5beb-d53e-4441-aa31-001be0b5c092",
   "metadata": {},
   "outputs": [],
   "source": [
    "from mysql.connector.pooling import MySQLConnectionPool\n",
    "from mysql.connector import errorcode\n",
    "\n",
    "dbconfig={\"database\":\"little_lemon_db\", \"user\":\"root\", \"password\":\"root\"}\n",
    "\n",
    "pool = MySQLConnectionPool(pool_name=\"pool_a\", pool_size=2, **dbconfig)"
   ]
  },
  {
   "cell_type": "markdown",
   "id": "dcb00c7b-2005-4433-a13d-d84a6da6ca92",
   "metadata": {},
   "source": [
    "## Task 2: Implement a stored procedure called PeakHours\n",
    "- **Step one**: Write a SQL **CREATE PROCEDURE** query for **PeakHours**\n",
    "\n",
    "    Use **HOUR** to extract the hour part from the BookingSlot.\n",
    "\n",
    "    Use **COUNT** on hour to count the number of bookings.\n",
    "\n",
    "    Use **GROUP BY** on booking hour.\n",
    "\n",
    "    Use **ORDER BY** on the number of bookings in descending order.\n",
    "\n",
    "- **Step two**: Run the stored procedure query by invoking execute module on the cursor.\n",
    "\n",
    "- **Step three**: Invoke callproc to call the stored procedure.\n",
    "\n",
    "- **Step four**: Fetch the results in a variable called dataset.\n",
    "\n",
    "- **Step five**: Extract the names of the columns.\n",
    "\n",
    "- **Step six**: Print the names of the columns.\n",
    "\n",
    "- **Step seven**: Print the sorted data using for loop."
   ]
  },
  {
   "cell_type": "code",
   "execution_count": 95,
   "id": "3999ba4a-6931-4988-907f-66402001909d",
   "metadata": {},
   "outputs": [],
   "source": [
    "# Step 1 Write a SQL CREATE PROCEDURE query for PeakHours\n",
    "\n",
    "peak_hour_procedure = \"\"\"\n",
    "    CREATE PROCEDURE IF NOT EXISTS PeakHours()\n",
    "    BEGIN\n",
    "        SELECT HOUR(BookingSlot) AS hour, COUNT(BookingSlot) AS count\n",
    "        FROM Bookings\n",
    "        GROUP BY hour\n",
    "        ORDER BY COUNT(BookingSlot) DESC;\n",
    "    END;\n",
    "\"\"\"\n"
   ]
  },
  {
   "cell_type": "code",
   "execution_count": 96,
   "id": "050b44f1-5deb-41d9-a544-016e4bd859a3",
   "metadata": {},
   "outputs": [],
   "source": [
    "# Step two: Run the stored procedure query by invoking execute module on the cursor.\n",
    "\n",
    "cursor.execute(peak_hour_procedure)\n",
    "connection.commit()\n"
   ]
  },
  {
   "cell_type": "code",
   "execution_count": 132,
   "id": "61a2ccae-0b99-44a7-8753-d580402fdfb5",
   "metadata": {},
   "outputs": [
    {
     "data": {
      "text/plain": [
       "()"
      ]
     },
     "execution_count": 132,
     "metadata": {},
     "output_type": "execute_result"
    }
   ],
   "source": [
    "# Step three: Invoke callproc to call the stored procedure.\n",
    "\n",
    "cursor.callproc(\"PeakHours\")\n"
   ]
  },
  {
   "cell_type": "code",
   "execution_count": 134,
   "id": "addd98ca-5e36-48c4-8134-43f3355c705c",
   "metadata": {},
   "outputs": [],
   "source": [
    "# Step four: Fetch the results in a variable called dataset.\n",
    "\n",
    "results_peak_hour = next(cursor.stored_results())\n",
    "dataset = results_peak_hour.fetchall()"
   ]
  },
  {
   "cell_type": "code",
   "execution_count": 139,
   "id": "257f4c84-5611-47ab-9e80-8de8b7080d41",
   "metadata": {},
   "outputs": [
    {
     "name": "stdout",
     "output_type": "stream",
     "text": [
      "hour\n",
      "count\n"
     ]
    }
   ],
   "source": [
    "# Step five: Extract the names of the columns.\n",
    "\n",
    "col_names = results_peak_hour.column_names\n",
    "\n",
    "for col in col_names:\n",
    "    print(col)"
   ]
  },
  {
   "cell_type": "code",
   "execution_count": 130,
   "id": "9cc1ea2e-2aa1-41e3-ab01-57c284cb812f",
   "metadata": {},
   "outputs": [
    {
     "name": "stdout",
     "output_type": "stream",
     "text": [
      "(19, 2)\n",
      "(15, 1)\n",
      "(17, 1)\n",
      "(18, 1)\n",
      "(20, 1)\n"
     ]
    }
   ],
   "source": [
    "# Step seven: Print the sorted data using for loop.\n",
    "for result in dataset:\n",
    "    print(result)"
   ]
  },
  {
   "cell_type": "markdown",
   "id": "ffa41514-2bd1-41ac-bd9d-5f349c774a50",
   "metadata": {},
   "source": [
    "## Task 3: Implement a stored procedure GuestStatus\n",
    "- **Step one**: Write a SQL **CREATE PROCEDURE** query for **GuestStatus**.\n",
    "\n",
    "- **Step two**: Combine the guest’s first and last name from the booking column using **CONCAT**. \n",
    "\n",
    "- **Step three**: Use **CASE** to implement the following statuses for each guest’s order:\n",
    "\n",
    "     If the **Role** in the Employee table is **Manager** or **Assistant Manager** then the guest’s order status is **Ready to pay**\n",
    "\n",
    "     If the **Role** in the Employee table is **Head Chef** then the status is **Ready to serve**\n",
    "\n",
    "     If the **Role** in the Employee table is **Assistant Chef** then the status is **Preparing Order**\n",
    "\n",
    "     If the **Role** in the Employee table is **Head Waiter** then the status is **Order served**\n",
    "\n",
    "- **Step four**: **LEFT JOIN** Bookings table with Employees **ON EmployeeID**\n",
    "\n",
    "- **Step five**: Run the stored procedure query by invoking execute module on the **cursor**.\n",
    "\n",
    "- **Step six**: Invoke **callproc** to call the stored procedure.\n",
    "\n",
    "- **Step seven**: Fetch the results in a variable called **dataset**.\n",
    "\n",
    "- **Step eight**: Extract the names of the columns.\n",
    "\n",
    "- **Step nine**: Print the names of the columns.\n",
    "\n",
    "- **Step ten**: Print the sorted data using for loop.\n",
    "\n",
    "- **Step eleven**: Close the connection to return it back to the pool."
   ]
  },
  {
   "cell_type": "code",
   "execution_count": 152,
   "id": "7b7cb028-123d-43ee-ac81-049bf3533641",
   "metadata": {},
   "outputs": [],
   "source": [
    "# Step 1, 2, 3, 4\n",
    "guest_status = \"\"\"CREATE PROCEDURE IF NOT EXISTS GuestStatus()\n",
    "    BEGIN\n",
    "       SELECT CONCAT(B.GuestFirstName, ' ', B.GuestLastName) AS full_name,\n",
    "       CASE E.Role\n",
    "\t\tWHEN 'Manager' THEN 'Ready to pay'\n",
    "        WHEN 'Assistant Manager' THEN 'Ready to pay'\n",
    "        WHEN 'Head Chef' THEN 'Ready to serve'\n",
    "\t\tWHEN 'Assistant Chef' THEN 'Preparing Order'\n",
    "\t\tWHEN 'Head Waiter' THEN 'Order served'\n",
    "        ELSE 'Do nothing'\n",
    "\tEND AS status\n",
    "FROM Bookings AS B\n",
    "LEFT JOIN Employees AS E ON B.EmployeeID = E.EmployeeID;\n",
    "end;\n",
    "\"\"\""
   ]
  },
  {
   "cell_type": "code",
   "execution_count": 153,
   "id": "6ba2fd82-4b72-4ff0-a295-621583e10974",
   "metadata": {},
   "outputs": [],
   "source": [
    "# Step five: Run the stored procedure query by invoking execute module on the cursor.\n",
    "\n",
    "cursor.execute(guest_status)"
   ]
  },
  {
   "cell_type": "code",
   "execution_count": 154,
   "id": "c8bbae0e-d5f2-4eb0-90bb-dcb8d75dc62c",
   "metadata": {},
   "outputs": [
    {
     "data": {
      "text/plain": [
       "()"
      ]
     },
     "execution_count": 154,
     "metadata": {},
     "output_type": "execute_result"
    }
   ],
   "source": [
    "# Step six: Invoke callproc to call the stored procedure.\n",
    "\n",
    "cursor.callproc(\"GuestStatus\")\n"
   ]
  },
  {
   "cell_type": "code",
   "execution_count": 155,
   "id": "21ad406b-6cf0-4d4b-857e-8b86ce96df7e",
   "metadata": {},
   "outputs": [],
   "source": [
    "# Step seven: Fetch the results in a variable called dataset.\n",
    "\n",
    "results_guest_status = next(cursor.stored_results())\n",
    "dataset_guest_status = results_guest_status.fetchall() "
   ]
  },
  {
   "cell_type": "code",
   "execution_count": 158,
   "id": "ad9eba55-2e9b-4ccc-9105-5e5397d31aac",
   "metadata": {},
   "outputs": [],
   "source": [
    "# Step eight: Extract the names of the columns.\n",
    "\n",
    "guest_results_col_names = results_guest_status.column_names"
   ]
  },
  {
   "cell_type": "code",
   "execution_count": 159,
   "id": "e18d55ed-9705-403f-bf81-176a6feb3431",
   "metadata": {},
   "outputs": [
    {
     "name": "stdout",
     "output_type": "stream",
     "text": [
      "full_name\n",
      "status\n"
     ]
    }
   ],
   "source": [
    "# Step nine: Print the names of the columns.\n",
    "\n",
    "for col in guest_results_col_names:\n",
    "    print(col)"
   ]
  },
  {
   "cell_type": "code",
   "execution_count": 160,
   "id": "f5935b44-de29-4fe4-b839-03543a58eefe",
   "metadata": {},
   "outputs": [
    {
     "name": "stdout",
     "output_type": "stream",
     "text": [
      "('Anna Iversen', 'Ready to pay')\n",
      "('Joakim Iversen', 'Ready to pay')\n",
      "('Vanessa McCarthy', 'Ready to serve')\n",
      "('Marcos Romero', 'Preparing Order')\n",
      "('Hiroki Yamane', 'Ready to pay')\n",
      "('Diana Pinto', 'Order served')\n"
     ]
    }
   ],
   "source": [
    "# Step ten: Print the sorted data using for loop.\n",
    "\n",
    "for data in dataset_guest_status:\n",
    "    print(data)"
   ]
  },
  {
   "cell_type": "code",
   "execution_count": 165,
   "id": "dc93d78a-3709-4fd0-93bf-8bad3d4d43b0",
   "metadata": {},
   "outputs": [
    {
     "data": {
      "text/plain": [
       "<bound method CMySQLConnection.close of <mysql.connector.connection_cext.CMySQLConnection object at 0x106e48410>>"
      ]
     },
     "execution_count": 165,
     "metadata": {},
     "output_type": "execute_result"
    }
   ],
   "source": [
    "# Step eleven: Close the connection to return it back to the pool.\n",
    "connection.close"
   ]
  },
  {
   "cell_type": "markdown",
   "id": "c1ad68ab-c720-4c35-b0b9-acb0bd9e6055",
   "metadata": {},
   "source": [
    "# Little Lemon Menu sales report project\n",
    "You have gained all the necessary skills and knowledge required to interact with the back-end MySQL database from your Python-based front-end application via the standard database client MySQL Connector/Python. \n",
    "\n",
    "Follow the instructions in the exercises given below and create a Jupyter notebook to produce a Little Lemon analysis and sales report. You need to submit this report for your peers to review."
   ]
  },
  {
   "cell_type": "markdown",
   "id": "c667e5da-1640-4b94-839e-a6b35c1a591d",
   "metadata": {},
   "source": [
    "## Task 1:\n",
    "Complete the following steps to establish a connection pool:\n",
    "\n",
    "To create a connection pool, import MySQLConnectionPool class from MySQL Connector/Python.\n",
    "\n",
    "To find the information on the error, import the Error class from MySQL Connector/Python.\n",
    "\n",
    "Define your database configurations as a Python dictionary object called dbconfig.\n",
    "\n",
    "Establish a connection pool [pool_name = pool_b] with two connections. \n",
    "\n",
    "Implement error handling using a try-except block in case the connection fails. \n",
    "\n"
   ]
  },
  {
   "cell_type": "code",
   "execution_count": 3,
   "id": "4a429869-b87f-423b-afd2-e903e627b15d",
   "metadata": {},
   "outputs": [],
   "source": [
    "from mysql.connector import pooling, Error"
   ]
  },
  {
   "cell_type": "code",
   "execution_count": 4,
   "id": "799f28ae-c2a9-43b6-9832-2a1ae7b6e270",
   "metadata": {},
   "outputs": [
    {
     "name": "stdout",
     "output_type": "stream",
     "text": [
      "The connectin pool is created with name: pool_b\n",
      "The pool size is: 2\n"
     ]
    }
   ],
   "source": [
    "dbconfig={\"database\":\"little_lemon_db\", \"user\":\"root\", \"password\":\"root\"}\n",
    "try:\n",
    "    pool = pooling.MySQLConnectionPool(pool_name=\"pool_b\",\n",
    "                                                  pool_size=2,\n",
    "                                                  host='localhost',\n",
    "                                                  **dbconfig)\n",
    "    print(\"The connectin pool is created with name:\", pool.pool_name)\n",
    "    print(\"The pool size is:\", pool.pool_size)\n",
    "except Error as err:\n",
    "    print(\"Error code:\", err.errno)\n",
    "    print(\"Error message:\", err.msg)"
   ]
  },
  {
   "cell_type": "markdown",
   "id": "1510bc0a-31aa-43f7-a924-bdf65a28aa20",
   "metadata": {},
   "source": [
    "## Task 2:\n",
    "Three guests are trying to book dinner slots simultaneously. Get the connections from pool_b and insert the following data in the Bookings table:\n",
    "\n",
    "\n",
    "TIP: You need to add a connection to connect the third guest.\n",
    "\n",
    "\n",
    "**Guest 1:**\n",
    "\n",
    "Table Number: 8\n",
    "\n",
    "First Name: Anees\n",
    "\n",
    "Last Name: Java\n",
    "\n",
    "Booking Time: 18:00\n",
    "\n",
    "EmployeeID: 6\n",
    "\n",
    "\n",
    "**Guest 2:**\n",
    "\n",
    "Table Number: 5\n",
    "\n",
    "First Name: Bald\n",
    "\n",
    "Last Name: Vin\n",
    "\n",
    "Booking Time: 19:00\n",
    "\n",
    "EmployeeID: 6\n",
    "\n",
    "\n",
    "**Guest 3:**\n",
    "\n",
    "Table Number: 12\n",
    "\n",
    "First Name: Jay\n",
    "\n",
    "Last Name: Kon\n",
    "\n",
    "Booking Time: 19:30 \n",
    "\n",
    "EmployeeID: 6\n",
    "\n",
    "\n",
    "Return all the connections back to the pool. \n",
    "\n",
    "\n",
    "TIP: The pool size is two. However, you have three connected users. You can only return two connections. Returning a third connection will raise a PoolError. Use try-except to print the error message.  \n"
   ]
  },
  {
   "cell_type": "code",
   "execution_count": 5,
   "id": "bd6ba032-1dda-4175-990e-c036b699ec93",
   "metadata": {},
   "outputs": [],
   "source": [
    "data = {'Guest 1':{\n",
    "'id':7,\n",
    "'Table Number': 8,\n",
    "'First Name': 'Anees',\n",
    "'Last Name': 'Java',\n",
    "'Booking Time': '18:00:00',\n",
    "'EmployeeID': 6},\n",
    "        'Guest 2':{\n",
    "'id':8,\n",
    "'Table Number': 5,\n",
    "'First Name': 'Bald',\n",
    "'Last Name': 'Vin',\n",
    "'Booking Time': '19:00:00',\n",
    "'EmployeeID': 6},\n",
    "        'Guest 3':{\n",
    "'id':9,\n",
    "'Table Number': 12,\n",
    "'First Name': 'Jay',\n",
    "'Last Name': 'Kon',\n",
    "'Booking Time': '19:30:00' ,\n",
    "'EmployeeID': 6}}"
   ]
  },
  {
   "cell_type": "markdown",
   "id": "2730352a-0100-481e-ac67-644eb6ccf06f",
   "metadata": {},
   "source": [
    "## Task 3:\n",
    "Create a report containing the following information:\n",
    "\n",
    "The name and EmployeeID of the Little Lemon manager.\n",
    "\n",
    "The name and role of the employee who receives the highest salary.\n",
    "\n",
    "The number of guests booked between 18:00 and 20:00.\n",
    "\n",
    "The full name and BookingID of all guests waiting to be seated with the receptionist in sorted order with respect to their BookingSlot.\n"
   ]
  },
  {
   "cell_type": "code",
   "execution_count": 6,
   "id": "f1ee1fb5-05c5-4730-b8a6-d385e9cc1d66",
   "metadata": {},
   "outputs": [
    {
     "name": "stdout",
     "output_type": "stream",
     "text": [
      "Guest 3\n",
      "Failed getting connection; pool exhausted\n",
      "Error code: -1\n",
      "Error message: Failed adding connection; queue is full\n"
     ]
    }
   ],
   "source": [
    "for i, x in enumerate(data):\n",
    "    globals()[f'conn_{i}'] = None\n",
    "    try:\n",
    "        values = tuple(list(data[x].values()))\n",
    "        globals()[f'conn_{i}'] = pool.get_connection()\n",
    "        cursor = globals()[f'conn_{i}'].cursor()\n",
    "        temp_stmt = f'''INSERT IGNORE INTO Bookings \n",
    "        VALUES {values}'''\n",
    "        cursor.execute(temp_stmt)\n",
    "        globals()[f'conn_{i}'].commit()\n",
    "    except Error as err:\n",
    "        print(x)\n",
    "        print(err.msg)\n",
    "        pool.add_connection()\n",
    "        globals()[f'conn_{i}'] = pool.get_connection()\n",
    "        cursor = globals()[f'conn_{i}'].cursor()\n",
    "        temp_stmt = f'''INSERT IGNORE INTO Bookings \n",
    "        VALUES {values}'''\n",
    "        cursor.execute(temp_stmt)\n",
    "        globals()[f'conn_{i}'].commit()\n",
    "try:\n",
    "    conn_0.close()\n",
    "    conn_1.close()\n",
    "    conn_2.close()\n",
    "except Error as err:\n",
    "    print(\"Error code:\", err.errno)\n",
    "    print(\"Error message:\", err.msg)"
   ]
  },
  {
   "cell_type": "code",
   "execution_count": 7,
   "id": "eb1c92de-0bca-4024-ad55-6097460fa84b",
   "metadata": {},
   "outputs": [],
   "source": [
    "report_stmt_1 = '''\n",
    "Select Name, EmployeeID FROM Employees\n",
    "Where Role = 'Manager';\n",
    "'''\n"
   ]
  },
  {
   "cell_type": "code",
   "execution_count": 8,
   "id": "93ba265f-25ed-4fd0-b7bf-81ba418e0a57",
   "metadata": {},
   "outputs": [],
   "source": [
    "report_stmt_2 = '''\n",
    "Select Name, Role FROM Employees\n",
    "where Annual_Salary =( select MAX(Annual_Salary) FROM Employees);\n",
    "'''"
   ]
  },
  {
   "cell_type": "code",
   "execution_count": 9,
   "id": "61fb9179-313e-480e-9d42-0bd9d9f12b4a",
   "metadata": {},
   "outputs": [],
   "source": [
    "report_stmt_3 = '''\n",
    "Select COUNT(BookingID) AS number_of_guests FROM Bookings\n",
    "Where BookingSlot BETWEEN '18:00:00' AND '20:00:00';\n",
    "'''\n"
   ]
  },
  {
   "cell_type": "code",
   "execution_count": 10,
   "id": "461c24bd-6d1a-4590-9aeb-33ee82e615d3",
   "metadata": {},
   "outputs": [],
   "source": [
    "report_stmt_4 = '''\n",
    "SELECT CONCAT(GuestFirstName,' ',GuestLastName) AS GuestFullName, BookingID\n",
    "FROM Bookings\n",
    "Where EmployeeID != 6\n",
    "ORDER BY BookingSlot;\n",
    "'''\n"
   ]
  },
  {
   "cell_type": "markdown",
   "id": "6d5c1b09-59dc-4901-9a93-7a7c029267fc",
   "metadata": {},
   "source": [
    "## Task 4:\n",
    "Create a stored procedure named BasicSalesReport that returns the following statistics: \n",
    "\n",
    "Total sales\n",
    "\n",
    "Average sale\n",
    "\n",
    "Minimum bill paid\n",
    "\n",
    "Maximum bill paid"
   ]
  },
  {
   "cell_type": "code",
   "execution_count": 11,
   "id": "456ff31f-4b4d-4fd8-bf92-b6efe1f2dc72",
   "metadata": {},
   "outputs": [],
   "source": [
    "create_basicsalesreport_proc = \"\"\"\n",
    "CREATE PROCEDURE BasicSalesReport()\n",
    "BEGIN\n",
    "SELECT SUM(BillAmount) AS Total_sales, AVG(BillAmount) AS Average_sale, MIN(BillAmount) AS Minimum_bill_paid,\n",
    "MAX(BillAmount) as Maximum_bill_paid\n",
    "FROM Orders;\n",
    "END\"\"\""
   ]
  },
  {
   "cell_type": "code",
   "execution_count": 12,
   "id": "9d630b63-b4f9-4c21-ac7b-92900c3fca39",
   "metadata": {},
   "outputs": [],
   "source": [
    "conn_4 = pool.get_connection()\n",
    "cursor = conn_4.cursor(buffered=True)"
   ]
  },
  {
   "cell_type": "markdown",
   "id": "3d6aa199-74cd-4343-8712-7a651571a4d2",
   "metadata": {},
   "source": [
    "## Task 5:\n",
    "Little Lemon needs to display the next three upcoming bookings from the Bookings table on the kitchen screen to notify their chefs which orders are due next. To complete this task, carry out the following steps:\n",
    "\n",
    "Get a connection from the pool.\n",
    "\n",
    "Create a buffered cursor.\n",
    "\n",
    "Combine the data from the Bookings and the Employee tables. Sort the retrieved records in ascending order. Then display the information of the first three guests. \n",
    "\n",
    "Returned the connection back to the pool.\n",
    "\n",
    "\n",
    "The output should be as follows:\n",
    "\n",
    "[BookingSlot]\n",
    "\n",
    "[Guest_name]\n",
    "\n",
    "[Assigned to: Employee Name [Employee Role]]"
   ]
  },
  {
   "cell_type": "code",
   "execution_count": 13,
   "id": "a84b030b-51dd-4798-8223-347a3422e0c4",
   "metadata": {},
   "outputs": [],
   "source": [
    "next_three_upcoming_bookings_stmt = '''\n",
    "SELECT BookingSlot,\n",
    "CONCAT('Guest_name: ', GuestFirstName,' ',GuestLastName) AS GuestFullName,\n",
    "CONCAT('Assigned to: ', Name , ' ', '[', Role ,']') AS BookingAssignment\n",
    "FROM Bookings \n",
    "INNER JOIN Employees\n",
    "ON Bookings.EmployeeID=Employees.EmployeeID\n",
    "ORDER BY BookingSlot;\n",
    "'''\n",
    "cursor.execute(next_three_upcoming_bookings_stmt)\n",
    "dataset = cursor.fetchmany(3)"
   ]
  },
  {
   "cell_type": "code",
   "execution_count": 14,
   "id": "ef4f12d3-6dad-49eb-8cab-d5ac7a5b3bb9",
   "metadata": {},
   "outputs": [],
   "source": [
    "cursor.execute(next_three_upcoming_bookings_stmt)\n",
    "dataset = cursor.fetchmany(3)\n"
   ]
  },
  {
   "cell_type": "code",
   "execution_count": 15,
   "id": "25a55bcf-abff-4b29-bb4f-daa74ed634c4",
   "metadata": {},
   "outputs": [
    {
     "name": "stdout",
     "output_type": "stream",
     "text": [
      "BookingSlot 15:00:00\n",
      "        Guest_name: Vanessa McCarthy\n",
      "        Assigned to: Giorgos Dioudis [Head Chef]\n",
      "\n",
      "BookingSlot 17:30:00\n",
      "        Guest_name: Marcos Romero\n",
      "        Assigned to: Fatma Kaya [Assistant Chef]\n",
      "\n",
      "BookingSlot 18:00:00\n",
      "        Guest_name: Anees Java\n",
      "        Assigned to: John Millar [Receptionist]\n",
      "\n"
     ]
    }
   ],
   "source": [
    "for data in dataset:\n",
    "    delta = data[0]\n",
    "    totalMinute, second = divmod(delta.seconds, 60)\n",
    "    hour, minute = divmod(totalMinute, 60)\n",
    "    print(f\"BookingSlot {hour}:{minute:02}:{second:02}\")\n",
    "    print(' '*7,data[1])\n",
    "    print(' '*7,data[2])\n",
    "    print()"
   ]
  },
  {
   "cell_type": "code",
   "execution_count": 16,
   "id": "a6d2933e-2767-443b-9829-d52e81187533",
   "metadata": {},
   "outputs": [],
   "source": [
    "conn_4.close()"
   ]
  },
  {
   "cell_type": "code",
   "execution_count": null,
   "id": "ebfcd830-af98-4207-8e76-f7e26e4ad1db",
   "metadata": {},
   "outputs": [],
   "source": []
  },
  {
   "cell_type": "code",
   "execution_count": null,
   "id": "f1aedbb1-61ce-430b-b230-155d66fd33ff",
   "metadata": {},
   "outputs": [],
   "source": []
  }
 ],
 "metadata": {
  "kernelspec": {
   "display_name": "Python 3 (ipykernel)",
   "language": "python",
   "name": "python3"
  },
  "language_info": {
   "codemirror_mode": {
    "name": "ipython",
    "version": 3
   },
   "file_extension": ".py",
   "mimetype": "text/x-python",
   "name": "python",
   "nbconvert_exporter": "python",
   "pygments_lexer": "ipython3",
   "version": "3.12.2"
  }
 },
 "nbformat": 4,
 "nbformat_minor": 5
}
